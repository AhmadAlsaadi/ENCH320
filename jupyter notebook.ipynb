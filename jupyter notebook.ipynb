{
 "cells": [
  {
   "cell_type": "markdown",
   "metadata": {
    "toc": "true"
   },
   "source": [
    "# Table of Contents\n",
    " <p><div class=\"lev1 toc-item\"><a href=\"#An-Introduction-to-Jupyter-Notebooks\" data-toc-modified-id=\"An-Introduction-to-Jupyter-Notebooks-1\"><span class=\"toc-item-num\">1&nbsp;&nbsp;</span>An Introduction to Jupyter Notebooks</a></div><div class=\"lev1 toc-item\"><a href=\"#Cells-&amp;-Cell-types\" data-toc-modified-id=\"Cells-&amp;-Cell-types-2\"><span class=\"toc-item-num\">2&nbsp;&nbsp;</span>Cells &amp; Cell types</a></div><div class=\"lev2 toc-item\"><a href=\"#Edit-Mode-vs.-Command-Mode\" data-toc-modified-id=\"Edit-Mode-vs.-Command-Mode-21\"><span class=\"toc-item-num\">2.1&nbsp;&nbsp;</span>Edit Mode vs. Command Mode</a></div><div class=\"lev3 toc-item\"><a href=\"#Getting-Help\" data-toc-modified-id=\"Getting-Help-211\"><span class=\"toc-item-num\">2.1.1&nbsp;&nbsp;</span>Getting Help</a></div><div class=\"lev2 toc-item\"><a href=\"#Changing-cell-type\" data-toc-modified-id=\"Changing-cell-type-22\"><span class=\"toc-item-num\">2.2&nbsp;&nbsp;</span>Changing cell type</a></div><div class=\"lev2 toc-item\"><a href=\"#Executing-Cells\" data-toc-modified-id=\"Executing-Cells-23\"><span class=\"toc-item-num\">2.3&nbsp;&nbsp;</span>Executing Cells</a></div><div class=\"lev2 toc-item\"><a href=\"#Navigating-Cells\" data-toc-modified-id=\"Navigating-Cells-24\"><span class=\"toc-item-num\">2.4&nbsp;&nbsp;</span>Navigating Cells</a></div><div class=\"lev1 toc-item\"><a href=\"#Some-Markdown-Tips\" data-toc-modified-id=\"Some-Markdown-Tips-3\"><span class=\"toc-item-num\">3&nbsp;&nbsp;</span>Some Markdown Tips</a></div><div class=\"lev2 toc-item\"><a href=\"#Tables\" data-toc-modified-id=\"Tables-31\"><span class=\"toc-item-num\">3.1&nbsp;&nbsp;</span>Tables</a></div><div class=\"lev2 toc-item\"><a href=\"#Internal-links-in-a-notebook\" data-toc-modified-id=\"Internal-links-in-a-notebook-32\"><span class=\"toc-item-num\">3.2&nbsp;&nbsp;</span>Internal links in a notebook</a></div><div class=\"lev2 toc-item\"><a href=\"#HTML-in-a-notebook\" data-toc-modified-id=\"HTML-in-a-notebook-33\"><span class=\"toc-item-num\">3.3&nbsp;&nbsp;</span>HTML in a notebook</a></div><div class=\"lev2 toc-item\"><a href=\"#LaTeX-in-a-notebook\" data-toc-modified-id=\"LaTeX-in-a-notebook-34\"><span class=\"toc-item-num\">3.4&nbsp;&nbsp;</span>LaTeX in a notebook</a></div><div class=\"lev3 toc-item\"><a href=\"#Some-Common-LaTeX-Usage\" data-toc-modified-id=\"Some-Common-LaTeX-Usage-341\"><span class=\"toc-item-num\">3.4.1&nbsp;&nbsp;</span>Some Common LaTeX Usage</a></div><div class=\"lev3 toc-item\"><a href=\"#LaTeX-Macros\" data-toc-modified-id=\"LaTeX-Macros-342\"><span class=\"toc-item-num\">3.4.2&nbsp;&nbsp;</span>LaTeX Macros</a></div><div class=\"lev3 toc-item\"><a href=\"#LaTeX-extensions\" data-toc-modified-id=\"LaTeX-extensions-343\"><span class=\"toc-item-num\">3.4.3&nbsp;&nbsp;</span>LaTeX extensions</a></div><div class=\"lev1 toc-item\"><a href=\"#Debugging-a-notebook\" data-toc-modified-id=\"Debugging-a-notebook-4\"><span class=\"toc-item-num\">4&nbsp;&nbsp;</span>Debugging a notebook</a></div><div class=\"lev1 toc-item\"><a href=\"#Python-in-a-Jupyter-Notebook\" data-toc-modified-id=\"Python-in-a-Jupyter-Notebook-5\"><span class=\"toc-item-num\">5&nbsp;&nbsp;</span>Python in a Jupyter Notebook</a></div><div class=\"lev2 toc-item\"><a href=\"#Defining-Functions\" data-toc-modified-id=\"Defining-Functions-51\"><span class=\"toc-item-num\">5.1&nbsp;&nbsp;</span>Defining Functions</a></div><div class=\"lev2 toc-item\"><a href=\"#Using-Python-Libraries\" data-toc-modified-id=\"Using-Python-Libraries-52\"><span class=\"toc-item-num\">5.2&nbsp;&nbsp;</span>Using Python Libraries</a></div><div class=\"lev2 toc-item\"><a href=\"#Plotting\" data-toc-modified-id=\"Plotting-53\"><span class=\"toc-item-num\">5.3&nbsp;&nbsp;</span>Plotting</a></div><div class=\"lev2 toc-item\"><a href=\"#Getting-help-on-python-commands\" data-toc-modified-id=\"Getting-help-on-python-commands-54\"><span class=\"toc-item-num\">5.4&nbsp;&nbsp;</span>Getting help on python commands</a></div><div class=\"lev1 toc-item\"><a href=\"#Interactive-Notebooks:-Widgets\" data-toc-modified-id=\"Interactive-Notebooks:-Widgets-6\"><span class=\"toc-item-num\">6&nbsp;&nbsp;</span>Interactive Notebooks: Widgets</a></div><div class=\"lev2 toc-item\"><a href=\"#A-Simple-Example\" data-toc-modified-id=\"A-Simple-Example-61\"><span class=\"toc-item-num\">6.1&nbsp;&nbsp;</span>A Simple Example</a></div><div class=\"lev1 toc-item\"><a href=\"#Magics-in-Jupyter-Notebooks\" data-toc-modified-id=\"Magics-in-Jupyter-Notebooks-7\"><span class=\"toc-item-num\">7&nbsp;&nbsp;</span>Magics in Jupyter Notebooks</a></div><div class=\"lev2 toc-item\"><a href=\"#lsmagic\" data-toc-modified-id=\"lsmagic-71\"><span class=\"toc-item-num\">7.1&nbsp;&nbsp;</span>lsmagic</a></div><div class=\"lev2 toc-item\"><a href=\"#timeit\" data-toc-modified-id=\"timeit-72\"><span class=\"toc-item-num\">7.2&nbsp;&nbsp;</span>timeit</a></div><div class=\"lev2 toc-item\"><a href=\"#who-and-whos\" data-toc-modified-id=\"who-and-whos-73\"><span class=\"toc-item-num\">7.3&nbsp;&nbsp;</span>who and whos</a></div>"
   ]
  },
  {
   "cell_type": "markdown",
   "metadata": {
    "nbpresent": {
     "id": "68bc15e1-1df3-4913-8792-479e7b2955e6"
    },
    "slideshow": {
     "slide_type": "slide"
    }
   },
   "source": [
    "\n",
    "![University of Jeddah](https://uj.edu.sa/img/MainPageAd1.png)\n",
    "\n",
    "----\n",
    "# An Introduction to Jupyter Notebooks\n",
    "\n",
    "Contributors:\n",
    " * [James C. Sutherland](sutherland.che.utah.edu)\n",
    "\n",
    "----"
   ]
  },
  {
   "cell_type": "markdown",
   "metadata": {
    "slideshow": {
     "slide_type": "slide"
    }
   },
   "source": [
    "# Cells & Cell types\n",
    "Jupyter notebooks are made up of _cells_. Each cell is an _execution scope_, which means that it will be executed as a single block of instructions.  Cells know about variables defined in previous cells (above them) but not any cells below them.\n",
    "\n",
    "There are a few different types of cells:\n",
    " * Markdown - used for text editing.\n",
    " * Code - used for python code.\n",
    "When you execute a cell, it will be rendered (Markdown) or run through Python (Code).  In fact, this cell was a Markdown cell and is then rendered using Markdown formatting."
   ]
  },
  {
   "cell_type": "markdown",
   "metadata": {
    "slideshow": {
     "slide_type": "subslide"
    }
   },
   "source": [
    "## Edit Mode vs. Command Mode\n",
    " * In _edit mode_, keyboard commands will edit the contents of a cell.  \n",
    "   * A cell in edit mode has a green border.  \n",
    "   * To switch to command mode, hit __`Esc`__.\n",
    " * In _command mode_, keyboard commands will invoke shortcuts to take actions on a notebook.  \n",
    "   * A cell in command mode has a blue border. \n",
    "   * To switch to edit mode, hit __`Enter`__\n",
    "\n",
    "### Getting Help\n",
    "When in command mode, you can get a quick list of shortcut commands by typing __`h`__ or going to `Help->Keyboard Shortcuts`."
   ]
  },
  {
   "cell_type": "markdown",
   "metadata": {
    "slideshow": {
     "slide_type": "subslide"
    }
   },
   "source": [
    "## Changing cell type\n",
    "When in command mode:\n",
    " * __`M`__ converts the cell to Markdown.\n",
    " * __`Y`__ converts the cell to Code."
   ]
  },
  {
   "cell_type": "markdown",
   "metadata": {
    "slideshow": {
     "slide_type": "subslide"
    }
   },
   "source": [
    "## Executing Cells\n",
    "\n",
    " * ⇪↩︎ (shift-enter) will evaluate the current cell and advance to the next cell.\n",
    " * ⌃↩︎ (control-enter) will evaluate the current cell and keep focus there."
   ]
  },
  {
   "cell_type": "markdown",
   "metadata": {
    "nbpresent": {
     "id": "fc8b3357-0516-4e64-8d4a-04e6e60580c8"
    },
    "slideshow": {
     "slide_type": "subslide"
    }
   },
   "source": [
    "In a notebook, you can execute cells in any order, but typically you should execute them top-to-bottom.  One of the nice things about cells is you can make many quick changes and re-evaluate a cell without needing to re-evaluate the entire notebook.\n",
    "\n",
    "## Navigating Cells\n",
    "When in [command mode](#Edit-Mode-vs.-Command-Mode), use the up/down arrows to move to cells above/below."
   ]
  },
  {
   "cell_type": "markdown",
   "metadata": {
    "slideshow": {
     "slide_type": "slide"
    }
   },
   "source": [
    "# Some Markdown Tips\n",
    "You will definitely want to learn a bit about Markdown.  Fortunately, there is a link under `Help ➟ Markdown` that will point you to some [helpful resources](https://help.github.com/articles/basic-writing-and-formatting-syntax/)."
   ]
  },
  {
   "cell_type": "markdown",
   "metadata": {
    "slideshow": {
     "slide_type": "subslide"
    }
   },
   "source": [
    "Among some of the things you can do:\n",
    " * Create __sections__ (`#`), __subsections__ (`##`), __subsubsections__ (`###`)\n",
    " * Create __quote__ blocks for text using a \\>\n",
    "   > My famous quote\n",
    "   \n",
    " * __Display code__ (that won't be executed) enclosed in a single tick \\` for in-line code fragments or in a section of triple ticks \\`\\`\\` for separate displayed fragments:\n",
    "   ```\n",
    "   def display_hello(): \n",
    "     print('hello there!')\n",
    "   ```\n",
    " * Insert __[LaTeX equations](https://users.dickinson.edu/~richesod/latex/latexcheatsheet.pdf)__ by enclosing them in \\$ for inline equations: $\\alpha=\\frac{\\beta}{\\gamma}$ and \\$\\$ for displayed equations:\n",
    " $$\\vec{q}=-\\lambda\\nabla T$$\n",
    "\n",
    "Note that not all LaTeX functionality is supported, however.  More on LaTeX [below](#LaTeX-in-a-notebook).\n",
    " * Insert __images__: \n",
    " ```\n",
    " ![Image](path-or-url)\n",
    " ```\n",
    "   For example, to insert `picture.png` from the `img` directory adjacent to your notebook: `![Image](img/picture.png)`\n",
    " * Insert __hyperlinks__: \n",
    "```\n",
    "[displayed link text](http://www.my_url.com)\n",
    "```\n"
   ]
  },
  {
   "cell_type": "markdown",
   "metadata": {
    "slideshow": {
     "slide_type": "slide"
    }
   },
   "source": [
    "## Tables\n",
    "[Tables](http://www.tablesgenerator.com/markdown_tables) are formed using \\| to separate columns and `---` to indicate header rows.  For example,\n",
    " ```\n",
    " Fruit  | Vegetable\n",
    "------- | ---------\n",
    "Banana  | Pea\n",
    "Kiwi    | Carrot\n",
    "```\n",
    "displays:\n",
    "\n",
    "Fruit   | Vegetable\n",
    "------- | ---------\n",
    "Banana  | Pea\n",
    "Kiwi    | Carrot\n",
    "\n",
    "You can also alter the cell alignment in a table:\n",
    "    \n",
    "Right-aligned | Centered | Left-aligned\n",
    "-------------:|:--------:|:------------\n",
    "Use a trailing `:` for right-aligned. | Use leading and trailing `:` for centered | Use leading `:` for left-aligned\n",
    "Republican | Sane | Democrat"
   ]
  },
  {
   "cell_type": "markdown",
   "metadata": {
    "slideshow": {
     "slide_type": "fragment"
    }
   },
   "source": [
    "<div class=\"alert alert-block alert-info\">\n",
    "\n",
    "If you want to display data from Python in tabular format, you may want to use the [pandas](http://pandas.pydata.org/) library."
   ]
  },
  {
   "cell_type": "markdown",
   "metadata": {
    "slideshow": {
     "slide_type": "slide"
    }
   },
   "source": [
    "## Internal links in a notebook\n",
    "You can link to any section heading as follows:\n",
    "```\n",
    "  [link text to display](#heading-text)\n",
    "```\n",
    "For example, [here is a link to the executing cells section](#Executing-Cells) above."
   ]
  },
  {
   "cell_type": "markdown",
   "metadata": {
    "slideshow": {
     "slide_type": "fragment"
    }
   },
   "source": [
    "<div class=\"alert alert-block alert-info\">\n",
    "\n",
    "The heading text is case sensitive, and spaces should be replaced with dashes."
   ]
  },
  {
   "cell_type": "markdown",
   "metadata": {
    "slideshow": {
     "slide_type": "fragment"
    }
   },
   "source": [
    "## HTML in a notebook\n",
    "In addition to Markdown, you can use any HTML commands in a notebook (at least in markdown mode)."
   ]
  },
  {
   "cell_type": "markdown",
   "metadata": {
    "slideshow": {
     "slide_type": "slide"
    }
   },
   "source": [
    "## LaTeX in a notebook\n",
    "LaTeX is a powerful typesetting language in its own right, but a subset of LaTeX is supported in Jupyter.\n",
    "If you are learning LaTeX, [here is a cheat sheet](https://artofproblemsolving.com/wiki/index.php/LaTeX:Symbols) that you may find useful.\n",
    "Built-in to Jupyter notebooks you will find support for inline equations by encapsulating them in single `$` and for displayed equations by encapsulating them in double `$$`"
   ]
  },
  {
   "cell_type": "markdown",
   "metadata": {
    "slideshow": {
     "slide_type": "subslide"
    }
   },
   "source": [
    "### Some Common LaTeX Usage\n",
    " | LaTeX | Displayed |\n",
    " |:------|:----------|\n",
    " |`\\int_{\\alpha}^{\\beta} f(x) dx` | $\\int_{\\alpha}^{\\beta} f(x) dx$ |\n",
    " |`\\frac{a}{b}` | $\\frac{a}{b}$ |\n",
    " |`\\left( \\frac{\\partial f}{\\partial x} \\right)` | $\\left( \\frac{\\partial f}{\\partial x}\\right)$ |\n",
    " |`\\vec{x}` | $\\vec{x}$ |\n",
    " |`\\overline{abc}` | $\\overline{abc}$ |\n",
    " |`\\int_a^b \\underbrace{ \\frac{1-x}{e^x}}_\\mathrm{integrand} dx` | $\\int_a^b \\underbrace{ \\frac{1-x}{\\exp(x^2)}}_\\mathrm{integrand} dx$ |\n",
    " |`\\mathsf{abcde}` | $\\mathsf{abcde}$ |\n",
    " |`\\mathrm{abcde}` | $\\mathrm{abcde}$ |\n",
    " |`\\boldsymbol{\\alpha}` | $\\boldsymbol{\\alpha}$ |"
   ]
  },
  {
   "cell_type": "markdown",
   "metadata": {
    "slideshow": {
     "slide_type": "subslide"
    }
   },
   "source": [
    " \n",
    "### LaTeX Macros\n",
    "LaTeX macros can be used to create shortcuts to simplify frequently used, complex expressions.\n",
    "Put them at the top of your notebook in a markdown cell and they will be available in any later markdown cell.\n",
    "Here are some examples:\n",
    "$\\def\\del#1#2{\\frac{\\partial#1}{\\partial#2}}$\n",
    "$\\def\\d#1#2{\\frac{\\mathrm{d}#1}{\\mathrm{d}#2}}$\n",
    "$\\newcommand{\\Ls}{\\mathcal{L}_\\sigma}$\n",
    "$\\def\\D#1#2{\\frac{\\mathrm{D}#1}{\\mathrm{D}#2}}$\n",
    "\n",
    " | Macro definition | Example Usage | Example Output |\n",
    " |:---|:---|:---|\n",
    " |`$\\def\\del#1#2{\\frac{\\partial#1}{\\partial#2}}$` | `$\\del{f}{x}$` | $\\del{f}{x}$ |\n",
    " |`$\\def\\d#1#2{\\frac{\\mathrm{d}#1}{\\mathrm{d}#2}}$` | `$\\d{f}{x}$` | $\\d{f}{x}$ |\n",
    " |`$\\def\\D#1#2{\\frac{\\mathrm{D}#1}{\\mathrm{D}#2}}$` | `$\\D{f}{x}$` | $\\D{f}{x}$ |\n",
    " |`$\\newcommand{\\Ls}{\\mathcal{L}_\\sigma}$` | `$\\Ls$` | $\\Ls$ |"
   ]
  },
  {
   "cell_type": "markdown",
   "metadata": {
    "nbpresent": {
     "id": "1855a294-5905-4907-a6b0-fdff175dbe54"
    },
    "slideshow": {
     "slide_type": "subslide"
    }
   },
   "source": [
    "### LaTeX extensions\n",
    "If you install the [nbextensions](https://github.com/ipython-contrib/jupyter_contrib_nbextensions) package then you get support for a few additional LaTeX features, including:\n",
    "  * The `equation` environment for numbered equations:\n",
    "```\n",
    "\\begin{equation}\n",
    "  a = b + c \\label{eq:my special equation}\n",
    "\\end{equation}\n",
    "```\n",
    "    To disable numbering, put `\\nonumber` after the equation.  That is basically equivalent to putting the equation within double `$$`:\n",
    "```\n",
    "$$ a = b + c $$\n",
    "```\n",
    "  * The `align` environment for aligned (and numbered) equations:\n",
    "```\n",
    "\\begin{align}\n",
    "  a &\\rightarrow b + c \\\\\n",
    "  c + d &\\rightarrow e \\\\\n",
    "\\end{align}\n",
    "```\n",
    "    This produces equations aligned at the `&` symbol.  These equations are also numbered and can be labeled.\n",
    "  * To cross-reference an equation, use the `\\ref{}` command and supply the label you created:\n",
    "```\n",
    "\\ref{eq:my special equation}\n",
    "```"
   ]
  },
  {
   "cell_type": "markdown",
   "metadata": {
    "slideshow": {
     "slide_type": "slide"
    }
   },
   "source": [
    "# Debugging a notebook\n",
    "There are a few techniques to use in debugging a notebook:\n",
    " 1. Add `print()` statements in to see what your code is doing.\n",
    " 1. Use the [`%who` or `whos` cell magics](#who-and-whos).  This will tell you what variables are currently defined.\n",
    " 1. Activate the __variable inspector__ plugin from the [nbextensions](https://github.com/ipython-contrib/jupyter_contrib_nbextensions) package.  This will give you a floating window containing a list of variables currently defined.  It is very handy!\n",
    " 1. Sometimes it is helpful to restart the kernel (press the ⟳ button).  This will clear all variables defined in the notebook and give you a clean slate.\n",
    " 1. Add the `%%debug` [cell magic](#Magics-in-Jupyter-Notebooks) to the beginning of a code cell.  This will produce a terminal prompt at the bottom of the cell that allows you to enter python commands (like `print`, etc.) without needing to rerun the whole cell.\n"
   ]
  },
  {
   "cell_type": "markdown",
   "metadata": {
    "nbpresent": {
     "id": "afb7d369-94c2-4e14-b321-27ac7a60055d"
    },
    "slideshow": {
     "slide_type": "slide"
    }
   },
   "source": [
    "-------\n",
    "\n",
    "# Python in a Jupyter Notebook\n",
    "One of the great things about Jupyter is the ability to intersperse documentation (Markdown) with code that runs interactively and generates results.\n",
    "\n",
    "We'll next consider a few useful things that you will need to know to get started in Python\n",
    "\n",
    "## Defining Functions\n",
    "In python, a function is defined using the `def` keyword.  For example, we could create a function `add`"
   ]
  },
  {
   "cell_type": "code",
   "execution_count": 1,
   "metadata": {
    "nbpresent": {
     "id": "e1d7f2d3-0369-4ccd-8013-cef2424a66d0"
    },
    "slideshow": {
     "slide_type": "fragment"
    }
   },
   "outputs": [],
   "source": [
    "def add( x1, x2 ):\n",
    "  return x1+x2;"
   ]
  },
  {
   "cell_type": "markdown",
   "metadata": {
    "slideshow": {
     "slide_type": "fragment"
    }
   },
   "source": [
    "<div class=\"alert alert-block alert-info\">\n",
    "\n",
    "The colon at the end of the first line, which indicates that the body of the function (indented) comes next."
   ]
  },
  {
   "cell_type": "markdown",
   "metadata": {
    "nbpresent": {
     "id": "e89a09a7-5975-4ac3-8e36-db9642b95785"
    },
    "slideshow": {
     "slide_type": "fragment"
    }
   },
   "source": [
    "To use this, we can call our `add` function:"
   ]
  },
  {
   "cell_type": "code",
   "execution_count": 2,
   "metadata": {
    "nbpresent": {
     "id": "0faed10c-c222-4ca3-8e19-e9e05cdfa172"
    },
    "slideshow": {
     "slide_type": "fragment"
    }
   },
   "outputs": [
    {
     "data": {
      "text/plain": [
       "11"
      ]
     },
     "execution_count": 2,
     "metadata": {},
     "output_type": "execute_result"
    }
   ],
   "source": [
    "add( 5, 6 )"
   ]
  },
  {
   "cell_type": "code",
   "execution_count": 3,
   "metadata": {
    "nbpresent": {
     "id": "5655e352-202b-4418-9169-84ad515233c3"
    },
    "slideshow": {
     "slide_type": "fragment"
    }
   },
   "outputs": [
    {
     "name": "stdout",
     "output_type": "stream",
     "text": [
      "13.14\n"
     ]
    }
   ],
   "source": [
    "x = 3.14; y = 10;\n",
    "z = add( x, y );\n",
    "print(z)"
   ]
  },
  {
   "cell_type": "markdown",
   "metadata": {
    "nbpresent": {
     "id": "aac6e360-8723-490e-b132-432ab4658b45"
    },
    "slideshow": {
     "slide_type": "slide"
    }
   },
   "source": [
    "## Using Python Libraries\n",
    "Python has a vast number of libraries to simplify many tasks.  Among those that you will probably use regularly:\n",
    "  * [matplotlib](http://matplotlib.org) provides very powerful (but sometimes challenging to use) plotting capabilities.  A quick way to get started on a plot is to look at the [matplotlib gallery](http://matplotlib.org/gallery.html) to obtain code to generate a plot like the one you want to create.\n",
    "  * [NumPy](https://docs.scipy.org/doc/numpy/reference) provides really powerful array handling capabilities like those in Matlab to allow you to create and manipulate arrays of data.  It also has some algorithms that operate on the data.  If you are a matlab user, [here is a great guide](http://mathesaurus.sourceforge.net/matlab-python-xref.pdf) showing you the equivalent numpy/python commands\n",
    "  * [SciPy](https://docs.scipy.org/doc/scipy/reference) has a large number of algorithms such as interpolation, quadrature, optimization, ODE solvers, linear algebra tools, etc.  There is some duplication between NumPy and SciPy.\n",
    "  * [pandas](http://pandas.pydata.org/pandas-docs/stable/) provides a lot of data analysis tools.\n",
    "  * [SymPy](http://docs.sympy.org/latest/index.html) provides support for symbolic mathematics within Python.\n",
    "\n",
    "The first step in using a library is to tell Python that you want it.  This is done using the `import` command:"
   ]
  },
  {
   "cell_type": "code",
   "execution_count": 4,
   "metadata": {
    "nbpresent": {
     "id": "a5c88707-20b7-4be2-a8fb-9497b8750b95"
    },
    "slideshow": {
     "slide_type": "fragment"
    }
   },
   "outputs": [],
   "source": [
    "# import the numpy library and alias it to np. numpy provides linspace like matlab. \n",
    "# It also provides constants like pi and functions like sin, cos, etc.\n",
    "import numpy as np\n",
    "x = np.linspace( 0, 2*np.pi )  # create an array spaced from 0 to 2*pi.\n",
    "y = np.sin(x)\n",
    "z = y**2"
   ]
  },
  {
   "cell_type": "markdown",
   "metadata": {
    "nbpresent": {
     "id": "d5a15660-8e8d-47b6-bd33-a5fe59fbc929"
    },
    "slideshow": {
     "slide_type": "slide"
    }
   },
   "source": [
    "## Plotting\n",
    "Python has vast plotting capabilities that can be a bit overwhelming.\n",
    "Frequently, we simply want to plot basic 1D functions, which is accomplished through [matplotlib's pyplot package](http://matplotlib.org/api/pyplot_api.html#matplotlib.pyplot.plot):"
   ]
  },
  {
   "cell_type": "code",
   "execution_count": 5,
   "metadata": {
    "nbpresent": {
     "id": "12959a7f-b7b6-4d8a-bdd7-471fa0588770"
    },
    "scrolled": true,
    "slideshow": {
     "slide_type": "fragment"
    }
   },
   "outputs": [
    {
     "data": {
      "text/plain": [
       "<Figure size 640x480 with 1 Axes>"
      ]
     },
     "metadata": {},
     "output_type": "display_data"
    }
   ],
   "source": [
    "# note that this cell uses results defined in the cell above (x and z)\n",
    "import matplotlib.pyplot as plt\n",
    "plt.plot( x, np.sin(x), 'k', label='SIN' )  # label is what the legend will show.\n",
    "plt.plot( x, np.cos(x), 'r', label='COS' )\n",
    "plt.plot( x, np.tan(x), 'g' )               # no label = no legend entry\n",
    "plt.plot( x, z, label=\"sin^2\" )\n",
    "plt.title('sin, cos and tan')               # title for the plot\n",
    "plt.xlabel('x')                             # x-axis label\n",
    "plt.ylabel('f(x)')                          # y-axis label\n",
    "plt.legend()                                # show the legend\n",
    "plt.grid()                                  # show the grid on the plot\n",
    "plt.ylim(-1,1)                              # set the y-axis range\n",
    "plt.show()                                  # render the plot"
   ]
  },
  {
   "cell_type": "markdown",
   "metadata": {
    "nbpresent": {
     "id": "ade3fe25-518d-4e1d-be17-21a7ad98e8ee"
    },
    "slideshow": {
     "slide_type": "fragment"
    }
   },
   "source": [
    "There are _many_ options on plotting in Python.  The matplotlib [gallery](http://matplotlib.org/gallery.html) or [examples](http://matplotlib.org/examples/index.html) are great places to get template code to produce the kind of plot you are looking for."
   ]
  },
  {
   "cell_type": "markdown",
   "metadata": {
    "nbpresent": {
     "id": "3c593ab8-604e-4197-88b8-f5d8bae20076"
    },
    "slideshow": {
     "slide_type": "slide"
    }
   },
   "source": [
    "## Getting help on python commands\n",
    "You can get help on a Python command by typing it in a command cell and following it by `?` then evaluating the cell:"
   ]
  },
  {
   "cell_type": "code",
   "execution_count": 6,
   "metadata": {
    "nbpresent": {
     "id": "ab378b26-5be2-463a-9099-1822eb87f074"
    },
    "slideshow": {
     "slide_type": "fragment"
    }
   },
   "outputs": [],
   "source": [
    "import numpy as np\n",
    "np.linspace?"
   ]
  },
  {
   "cell_type": "markdown",
   "metadata": {},
   "source": [
    "----\n",
    "# Interactive Notebooks: Widgets\n",
    "[Widgets](http://ipywidgets.readthedocs.io/en/latest/user_guide.html) are a set of simple tools that enable powerful interactivity in a notebook.\n",
    "\n",
    "There are a few building blocks necessary:\n",
    "  1. Create the widget(s). There are [numerous widgets](http://ipywidgets.readthedocs.io/en/latest/examples/Widget%20List.html) available including sliders, text boxes, drop-downs, radio buttons, etc.\n",
    "  2. Create a function to call when the widget is modified.\n",
    "  3. Use the `interact` function\n",
    "\n",
    "## A Simple Example"
   ]
  },
  {
   "cell_type": "code",
   "execution_count": 7,
   "metadata": {},
   "outputs": [
    {
     "data": {
      "application/vnd.jupyter.widget-view+json": {
       "model_id": "3ab9f0b702cd4eb582bfbd7cbaae590f",
       "version_major": 2,
       "version_minor": 0
      },
      "text/plain": [
       "interactive(children=(IntSlider(value=1, description='Frequency:', max=8), Dropdown(description='Function:', o…"
      ]
     },
     "metadata": {},
     "output_type": "display_data"
    },
    {
     "data": {
      "text/plain": [
       "<function __main__.plot_it(f, w)>"
      ]
     },
     "execution_count": 7,
     "metadata": {},
     "output_type": "execute_result"
    }
   ],
   "source": [
    "import numpy as np\n",
    "import matplotlib.pyplot as plt\n",
    "from matplotlib import rcParams\n",
    "\n",
    "from ipywidgets import interact\n",
    "import ipywidgets as widgets\n",
    "\n",
    "# Create the function that we will call.  It can take multiple arguments if necessary.\n",
    "def plot_it(f,w):\n",
    "    t = np.linspace(0,2,500)\n",
    "    if w=='sin':\n",
    "        plt.plot( t, np.sin(np.pi*f*t) )\n",
    "    elif w=='cos':\n",
    "        plt.plot( t, np.cos(np.pi*f*t) )\n",
    "    elif w=='tan':\n",
    "        plt.plot( t, np.tan(np.pi*f*t) )\n",
    "        plt.ylim([-4,4])\n",
    "    plt.xlabel('t',fontsize=16)\n",
    "    plt.grid()\n",
    "    plt.show()\n",
    "\n",
    "# create our widgets.\n",
    "fwidget = widgets.IntSlider(min=0,\n",
    "                            max=8,\n",
    "                            value=1,\n",
    "                            description='Frequency:')\n",
    "which = widgets.Dropdown(options=['sin','cos','tan'],\n",
    "                         value='sin',\n",
    "                         description='Function:')\n",
    "\n",
    "# hook up the widget with the function\n",
    "interact( plot_it, f=fwidget, w=which )"
   ]
  },
  {
   "cell_type": "markdown",
   "metadata": {},
   "source": [
    "There are many other things that you can do with widgets.  See [the documentation](http://ipywidgets.readthedocs.io/en/latest/user_guide.html) for more information."
   ]
  },
  {
   "cell_type": "markdown",
   "metadata": {
    "nbpresent": {
     "id": "8f535aa8-a691-4aff-9a03-3efc2d32aee2"
    },
    "slideshow": {
     "slide_type": "slide"
    }
   },
   "source": [
    "---\n",
    "# Magics in Jupyter Notebooks\n",
    "There are a few useful tricks that can be used within a Jupyter notebook but that ordinary Python doesn't understand.  Let's go through a few.\n",
    "## lsmagic\n",
    "`%lsmagic` in a command cell will display the avilable line and cell magics:"
   ]
  },
  {
   "cell_type": "code",
   "execution_count": 8,
   "metadata": {
    "nbpresent": {
     "id": "2aa46a08-16f9-4150-96d4-2a78b2edee11"
    },
    "slideshow": {
     "slide_type": "fragment"
    }
   },
   "outputs": [
    {
     "data": {
      "application/json": {
       "cell": {
        "!": "OSMagics",
        "HTML": "Other",
        "SVG": "Other",
        "bash": "Other",
        "capture": "ExecutionMagics",
        "debug": "ExecutionMagics",
        "file": "Other",
        "html": "DisplayMagics",
        "javascript": "DisplayMagics",
        "js": "DisplayMagics",
        "latex": "DisplayMagics",
        "markdown": "DisplayMagics",
        "perl": "Other",
        "prun": "ExecutionMagics",
        "pypy": "Other",
        "python": "Other",
        "python2": "Other",
        "python3": "Other",
        "ruby": "Other",
        "script": "ScriptMagics",
        "sh": "Other",
        "svg": "DisplayMagics",
        "sx": "OSMagics",
        "system": "OSMagics",
        "time": "ExecutionMagics",
        "timeit": "ExecutionMagics",
        "writefile": "OSMagics"
       },
       "line": {
        "alias": "OSMagics",
        "alias_magic": "BasicMagics",
        "autocall": "AutoMagics",
        "automagic": "AutoMagics",
        "autosave": "KernelMagics",
        "bookmark": "OSMagics",
        "cat": "Other",
        "cd": "OSMagics",
        "clear": "KernelMagics",
        "colors": "BasicMagics",
        "config": "ConfigMagics",
        "connect_info": "KernelMagics",
        "cp": "Other",
        "debug": "ExecutionMagics",
        "dhist": "OSMagics",
        "dirs": "OSMagics",
        "doctest_mode": "BasicMagics",
        "ed": "Other",
        "edit": "KernelMagics",
        "env": "OSMagics",
        "gui": "BasicMagics",
        "hist": "Other",
        "history": "HistoryMagics",
        "killbgscripts": "ScriptMagics",
        "ldir": "Other",
        "less": "KernelMagics",
        "lf": "Other",
        "lk": "Other",
        "ll": "Other",
        "load": "CodeMagics",
        "load_ext": "ExtensionMagics",
        "loadpy": "CodeMagics",
        "logoff": "LoggingMagics",
        "logon": "LoggingMagics",
        "logstart": "LoggingMagics",
        "logstate": "LoggingMagics",
        "logstop": "LoggingMagics",
        "ls": "Other",
        "lsmagic": "BasicMagics",
        "lx": "Other",
        "macro": "ExecutionMagics",
        "magic": "BasicMagics",
        "man": "KernelMagics",
        "matplotlib": "PylabMagics",
        "mkdir": "Other",
        "more": "KernelMagics",
        "mv": "Other",
        "notebook": "BasicMagics",
        "page": "BasicMagics",
        "pastebin": "CodeMagics",
        "pdb": "ExecutionMagics",
        "pdef": "NamespaceMagics",
        "pdoc": "NamespaceMagics",
        "pfile": "NamespaceMagics",
        "pinfo": "NamespaceMagics",
        "pinfo2": "NamespaceMagics",
        "pip": "BasicMagics",
        "popd": "OSMagics",
        "pprint": "BasicMagics",
        "precision": "BasicMagics",
        "profile": "BasicMagics",
        "prun": "ExecutionMagics",
        "psearch": "NamespaceMagics",
        "psource": "NamespaceMagics",
        "pushd": "OSMagics",
        "pwd": "OSMagics",
        "pycat": "OSMagics",
        "pylab": "PylabMagics",
        "qtconsole": "KernelMagics",
        "quickref": "BasicMagics",
        "recall": "HistoryMagics",
        "rehashx": "OSMagics",
        "reload_ext": "ExtensionMagics",
        "rep": "Other",
        "rerun": "HistoryMagics",
        "reset": "NamespaceMagics",
        "reset_selective": "NamespaceMagics",
        "rm": "Other",
        "rmdir": "Other",
        "run": "ExecutionMagics",
        "save": "CodeMagics",
        "sc": "OSMagics",
        "set_env": "OSMagics",
        "store": "StoreMagics",
        "sx": "OSMagics",
        "system": "OSMagics",
        "tb": "ExecutionMagics",
        "time": "ExecutionMagics",
        "timeit": "ExecutionMagics",
        "unalias": "OSMagics",
        "unload_ext": "ExtensionMagics",
        "who": "NamespaceMagics",
        "who_ls": "NamespaceMagics",
        "whos": "NamespaceMagics",
        "xdel": "NamespaceMagics",
        "xmode": "BasicMagics"
       }
      },
      "text/plain": [
       "Available line magics:\n",
       "%alias  %alias_magic  %autocall  %automagic  %autosave  %bookmark  %cat  %cd  %clear  %colors  %config  %connect_info  %cp  %debug  %dhist  %dirs  %doctest_mode  %ed  %edit  %env  %gui  %hist  %history  %killbgscripts  %ldir  %less  %lf  %lk  %ll  %load  %load_ext  %loadpy  %logoff  %logon  %logstart  %logstate  %logstop  %ls  %lsmagic  %lx  %macro  %magic  %man  %matplotlib  %mkdir  %more  %mv  %notebook  %page  %pastebin  %pdb  %pdef  %pdoc  %pfile  %pinfo  %pinfo2  %popd  %pprint  %precision  %profile  %prun  %psearch  %psource  %pushd  %pwd  %pycat  %pylab  %qtconsole  %quickref  %recall  %rehashx  %reload_ext  %rep  %rerun  %reset  %reset_selective  %rm  %rmdir  %run  %save  %sc  %set_env  %store  %sx  %system  %tb  %time  %timeit  %unalias  %unload_ext  %who  %who_ls  %whos  %xdel  %xmode\n",
       "\n",
       "Available cell magics:\n",
       "%%!  %%HTML  %%SVG  %%bash  %%capture  %%debug  %%file  %%html  %%javascript  %%js  %%latex  %%markdown  %%perl  %%prun  %%pypy  %%python  %%python2  %%python3  %%ruby  %%script  %%sh  %%svg  %%sx  %%system  %%time  %%timeit  %%writefile\n",
       "\n",
       "Automagic is ON, % prefix IS NOT needed for line magics."
      ]
     },
     "execution_count": 8,
     "metadata": {},
     "output_type": "execute_result"
    }
   ],
   "source": [
    "%lsmagic"
   ]
  },
  {
   "cell_type": "markdown",
   "metadata": {
    "nbpresent": {
     "id": "25943b08-855f-49af-bb60-48c78cc461d3"
    },
    "slideshow": {
     "slide_type": "subslide"
    }
   },
   "source": [
    "A line magic has a single `%` prefix and applies to the given line of code only.\n",
    "A cell magic has a double `%%` prefix and applies to the whole cell below where it is found.\n",
    "\n",
    "## timeit\n",
    "The `timeit` magic is very useful when you want to time a section of code.  For example:\n",
    "    "
   ]
  },
  {
   "cell_type": "code",
   "execution_count": 9,
   "metadata": {
    "nbpresent": {
     "id": "949b3775-4840-4668-ada8-73e0e714fe57"
    },
    "slideshow": {
     "slide_type": "fragment"
    }
   },
   "outputs": [
    {
     "name": "stdout",
     "output_type": "stream",
     "text": [
      "28.8 µs ± 2.07 µs per loop (mean ± std. dev. of 7 runs, 10000 loops each)\n"
     ]
    }
   ],
   "source": [
    "import numpy as np\n",
    "A = np.random.rand(50,50) # a large matrix\n",
    "%timeit np.linalg.det(A)  # calculate the determinant"
   ]
  },
  {
   "cell_type": "markdown",
   "metadata": {
    "nbpresent": {
     "id": "2e4896fd-b210-479f-a8de-6a730f121f49"
    },
    "slideshow": {
     "slide_type": "fragment"
    }
   },
   "source": [
    "As you can see from the output, `timeit` runs the cell/line several times to get a decent average time, and also reports the variability in the runtime."
   ]
  },
  {
   "cell_type": "markdown",
   "metadata": {
    "slideshow": {
     "slide_type": "subslide"
    }
   },
   "source": [
    "## who and whos\n",
    "The `who` and `whos` magics provide information about the variables defined in the notebook similar to their Matlab counterparts:"
   ]
  },
  {
   "cell_type": "code",
   "execution_count": 10,
   "metadata": {
    "slideshow": {
     "slide_type": "fragment"
    }
   },
   "outputs": [
    {
     "name": "stdout",
     "output_type": "stream",
     "text": [
      "Variable   Type                Data/Info\n",
      "----------------------------------------\n",
      "A          ndarray             50x50: 2500 elems, type `float64`, 20000 bytes\n",
      "add        function            <function add at 0x108778c80>\n",
      "fwidget    IntSlider           IntSlider(value=1, descri<...>tion='Frequency:', max=8)\n",
      "interact   _InteractFactory    <ipywidgets.widgets.inter<...>ry object at 0x108771128>\n",
      "np         module              <module 'numpy' from '/an<...>kages/numpy/__init__.py'>\n",
      "plot_it    function            <function plot_it at 0x116403ae8>\n",
      "plt        module              <module 'matplotlib.pyplo<...>es/matplotlib/pyplot.py'>\n",
      "rcParams   RcParams            _internal.classic_mode: F<...>: 0.6\\nytick.right: False\n",
      "which      Dropdown            Dropdown(description='Fun<...>os', 'tan'), value='sin')\n",
      "widgets    module              <module 'ipywidgets' from<...>/ipywidgets/__init__.py'>\n",
      "x          ndarray             50: 50 elems, type `float64`, 400 bytes\n",
      "y          ndarray             50: 50 elems, type `float64`, 400 bytes\n",
      "z          ndarray             50: 50 elems, type `float64`, 400 bytes\n"
     ]
    }
   ],
   "source": [
    "%whos"
   ]
  }
 ],
 "metadata": {
  "anaconda-cloud": {},
  "celltoolbar": "Slideshow",
  "hide_input": false,
  "kernelspec": {
   "display_name": "Python 3",
   "language": "python",
   "name": "python3"
  },
  "language_info": {
   "codemirror_mode": {
    "name": "ipython",
    "version": 3
   },
   "file_extension": ".py",
   "mimetype": "text/x-python",
   "name": "python",
   "nbconvert_exporter": "python",
   "pygments_lexer": "ipython3",
   "version": "3.8.3"
  },
  "latex_envs": {
   "LaTeX_envs_menu_present": false,
   "autocomplete": true,
   "bibliofile": "biblio.bib",
   "cite_by": "number",
   "current_citInitial": 1,
   "eqLabelWithNumbers": false,
   "eqNumInitial": 1,
   "hotkeys": {
    "equation": "Ctrl-E",
    "itemize": "Ctrl-I"
   },
   "labels_anchors": true,
   "latex_user_defs": false,
   "report_style_numbering": false,
   "user_envs_cfg": false
  },
  "nbpresent": {
   "slides": {
    "0829abe8-98eb-4ad1-b45a-e0097eb93a36": {
     "id": "0829abe8-98eb-4ad1-b45a-e0097eb93a36",
     "prev": "3a4312ea-87e3-44ad-98ec-f0dca880159c",
     "regions": {
      "85729dac-b7cf-4406-ab10-9c57f6378d17": {
       "attrs": {
        "height": 0.8,
        "width": 0.8,
        "x": 0.1,
        "y": 0.1
       },
       "content": {
        "cell": "3c593ab8-604e-4197-88b8-f5d8bae20076",
        "part": "whole"
       },
       "id": "85729dac-b7cf-4406-ab10-9c57f6378d17"
      }
     }
    },
    "1468802f-4d78-44c1-8da9-1367b2e498f6": {
     "id": "1468802f-4d78-44c1-8da9-1367b2e498f6",
     "prev": "5e9e577e-792a-43a3-b3d7-effce05c6b03",
     "regions": {
      "bed8afe7-d2f2-440f-85a3-efbb7e490cd1": {
       "attrs": {
        "height": 0.8,
        "width": 0.8,
        "x": 0.1,
        "y": 0.1
       },
       "content": {
        "cell": "8f535aa8-a691-4aff-9a03-3efc2d32aee2",
        "part": "whole"
       },
       "id": "bed8afe7-d2f2-440f-85a3-efbb7e490cd1"
      }
     }
    },
    "1c936555-5a76-4cf0-a609-b13604b557d4": {
     "id": "1c936555-5a76-4cf0-a609-b13604b557d4",
     "prev": "9cd2b0a8-1d3c-4a82-982f-3d582b9badd6",
     "regions": {
      "aea3b17b-4d46-41ec-88df-f4c042306e1c": {
       "attrs": {
        "height": 0.8,
        "width": 0.8,
        "x": 0.1,
        "y": 0.1
       },
       "content": {
        "cell": "a5c88707-20b7-4be2-a8fb-9497b8750b95",
        "part": "whole"
       },
       "id": "aea3b17b-4d46-41ec-88df-f4c042306e1c"
      }
     },
     "theme": "5447362a-7776-468d-b16e-53a9d1213e29"
    },
    "3a4312ea-87e3-44ad-98ec-f0dca880159c": {
     "id": "3a4312ea-87e3-44ad-98ec-f0dca880159c",
     "prev": "45fbc941-0cac-479a-afa3-c5e0d28f21ea",
     "regions": {
      "c8242e90-40b4-48dd-b217-3e65fa41b3a5": {
       "attrs": {
        "height": 0.8,
        "width": 0.8,
        "x": 0.1,
        "y": 0.1
       },
       "content": {
        "cell": "12959a7f-b7b6-4d8a-bdd7-471fa0588770",
        "part": "whole"
       },
       "id": "c8242e90-40b4-48dd-b217-3e65fa41b3a5"
      },
      "ee41ac29-f480-4ac7-a852-dde45bb1bdb0": {
       "attrs": {
        "height": 0.4,
        "width": 0.8,
        "x": 0.1,
        "y": 0.5
       },
       "content": {
        "cell": "ade3fe25-518d-4e1d-be17-21a7ad98e8ee",
        "part": "whole"
       },
       "id": "ee41ac29-f480-4ac7-a852-dde45bb1bdb0"
      }
     }
    },
    "409235b9-7f1b-4aaa-8cd3-26fd472aff10": {
     "id": "409235b9-7f1b-4aaa-8cd3-26fd472aff10",
     "prev": "83234218-61a8-4611-996e-6c5c853778cb",
     "regions": {
      "4410162b-3082-4df0-b7aa-18d98f420e1f": {
       "attrs": {
        "height": 0.8,
        "width": 0.8,
        "x": 0.1,
        "y": 0.1
       },
       "content": {
        "cell": "1855a294-5905-4907-a6b0-fdff175dbe54",
        "part": "whole"
       },
       "id": "4410162b-3082-4df0-b7aa-18d98f420e1f"
      }
     }
    },
    "45fbc941-0cac-479a-afa3-c5e0d28f21ea": {
     "id": "45fbc941-0cac-479a-afa3-c5e0d28f21ea",
     "prev": "1c936555-5a76-4cf0-a609-b13604b557d4",
     "regions": {
      "768dcdfc-fe1d-4946-b7a2-b52aea6ae25e": {
       "attrs": {
        "height": 0.8,
        "width": 0.8,
        "x": 0.1,
        "y": 0.1
       },
       "content": {
        "cell": "d5a15660-8e8d-47b6-bd33-a5fe59fbc929",
        "part": "whole"
       },
       "id": "768dcdfc-fe1d-4946-b7a2-b52aea6ae25e"
      }
     }
    },
    "5e9e577e-792a-43a3-b3d7-effce05c6b03": {
     "id": "5e9e577e-792a-43a3-b3d7-effce05c6b03",
     "prev": "0829abe8-98eb-4ad1-b45a-e0097eb93a36",
     "regions": {
      "92bed874-0c37-419b-942c-1c149961086e": {
       "attrs": {
        "height": 0.8,
        "width": 0.8,
        "x": 0.1,
        "y": 0.1
       },
       "content": {
        "cell": "ab378b26-5be2-463a-9099-1822eb87f074",
        "part": "whole"
       },
       "id": "92bed874-0c37-419b-942c-1c149961086e"
      }
     }
    },
    "6d2bd40f-2b37-4b0a-91ae-89528a64bd47": {
     "id": "6d2bd40f-2b37-4b0a-91ae-89528a64bd47",
     "prev": "409235b9-7f1b-4aaa-8cd3-26fd472aff10",
     "regions": {
      "231b2906-c1d8-4648-9dd4-435593dd1175": {
       "attrs": {
        "height": 0.4,
        "width": 0.8,
        "x": 0.1,
        "y": 0.5
       },
       "content": {
        "cell": "0faed10c-c222-4ca3-8e19-e9e05cdfa172",
        "part": "whole"
       },
       "id": "231b2906-c1d8-4648-9dd4-435593dd1175"
      },
      "6d58c7e8-496b-4e77-88b4-5d22dc425448": {
       "attrs": {
        "height": 0.8,
        "width": 0.8,
        "x": 0.1,
        "y": 0.1
       },
       "content": {
        "cell": "afb7d369-94c2-4e14-b321-27ac7a60055d",
        "part": "whole"
       },
       "id": "6d58c7e8-496b-4e77-88b4-5d22dc425448"
      },
      "9fb077a7-e168-409b-87a4-efdf6cced2f8": {
       "attrs": {
        "height": 0.4,
        "width": 0.8,
        "x": 0.1,
        "y": 0.5
       },
       "content": {
        "cell": "5655e352-202b-4418-9169-84ad515233c3",
        "part": "whole"
       },
       "id": "9fb077a7-e168-409b-87a4-efdf6cced2f8"
      },
      "b5d08380-213a-4c29-978f-1c506786afa0": {
       "attrs": {
        "height": 0.4,
        "width": 0.8,
        "x": 0.1,
        "y": 0.5
       },
       "content": {
        "cell": "e1d7f2d3-0369-4ccd-8013-cef2424a66d0",
        "part": "whole"
       },
       "id": "b5d08380-213a-4c29-978f-1c506786afa0"
      },
      "d29a16cf-6f4f-498f-a4a0-78c95f345b5f": {
       "attrs": {
        "height": 0.4,
        "width": 0.8,
        "x": 0.1,
        "y": 0.5
       },
       "content": {
        "cell": "e89a09a7-5975-4ac3-8e36-db9642b95785",
        "part": "whole"
       },
       "id": "d29a16cf-6f4f-498f-a4a0-78c95f345b5f"
      }
     }
    },
    "83234218-61a8-4611-996e-6c5c853778cb": {
     "id": "83234218-61a8-4611-996e-6c5c853778cb",
     "prev": "f6b9a821-cba6-4b9c-bfe9-949a0ea9c4ab",
     "regions": {
      "c61120c4-9061-4165-bd6c-0196b1535fd1": {
       "attrs": {
        "height": 0.8,
        "width": 0.8,
        "x": 0.1,
        "y": 0.1
       },
       "content": {
        "cell": "fc8b3357-0516-4e64-8d4a-04e6e60580c8",
        "part": "whole"
       },
       "id": "c61120c4-9061-4165-bd6c-0196b1535fd1"
      }
     }
    },
    "9cd2b0a8-1d3c-4a82-982f-3d582b9badd6": {
     "id": "9cd2b0a8-1d3c-4a82-982f-3d582b9badd6",
     "prev": "6d2bd40f-2b37-4b0a-91ae-89528a64bd47",
     "regions": {
      "10a429ee-8691-41fa-8188-021ff7f1647d": {
       "attrs": {
        "height": 0.8,
        "width": 0.8,
        "x": 0.1,
        "y": 0.1
       },
       "content": {
        "cell": "aac6e360-8723-490e-b132-432ab4658b45",
        "part": "whole"
       },
       "id": "10a429ee-8691-41fa-8188-021ff7f1647d"
      }
     }
    },
    "c185f277-4260-47ee-8464-7bba8005c588": {
     "id": "c185f277-4260-47ee-8464-7bba8005c588",
     "prev": "1468802f-4d78-44c1-8da9-1367b2e498f6",
     "regions": {
      "cb6c1a3d-7549-491a-bf1c-633ab2a3c8fa": {
       "attrs": {
        "height": 0.8,
        "width": 0.8,
        "x": 0.1,
        "y": 0.1
       },
       "content": {
        "cell": "2aa46a08-16f9-4150-96d4-2a78b2edee11",
        "part": "whole"
       },
       "id": "cb6c1a3d-7549-491a-bf1c-633ab2a3c8fa"
      }
     }
    },
    "cbe0ecd2-3f49-4a31-b7fa-f512fe9e4eea": {
     "id": "cbe0ecd2-3f49-4a31-b7fa-f512fe9e4eea",
     "prev": "c185f277-4260-47ee-8464-7bba8005c588",
     "regions": {
      "db486b25-b04e-4f8e-8fa1-c2631608c3ad": {
       "attrs": {
        "height": 0.8,
        "width": 0.8,
        "x": 0.1,
        "y": 0.1
       },
       "content": {
        "cell": "25943b08-855f-49af-bb60-48c78cc461d3",
        "part": "whole"
       },
       "id": "db486b25-b04e-4f8e-8fa1-c2631608c3ad"
      },
      "e2930a38-87bb-41cd-ab94-39bee4aad515": {
       "attrs": {
        "height": 0.4,
        "width": 0.8,
        "x": 0.1,
        "y": 0.5
       },
       "content": {
        "cell": "949b3775-4840-4668-ada8-73e0e714fe57",
        "part": "whole"
       },
       "id": "e2930a38-87bb-41cd-ab94-39bee4aad515"
      },
      "ee95c083-e5dc-41cd-861c-d01707e2f163": {
       "attrs": {
        "height": 0.4,
        "width": 0.8,
        "x": 0.1,
        "y": 0.5
       },
       "content": {
        "cell": "2e4896fd-b210-479f-a8de-6a730f121f49",
        "part": "whole"
       },
       "id": "ee95c083-e5dc-41cd-861c-d01707e2f163"
      }
     }
    },
    "f6b9a821-cba6-4b9c-bfe9-949a0ea9c4ab": {
     "id": "f6b9a821-cba6-4b9c-bfe9-949a0ea9c4ab",
     "prev": null,
     "regions": {
      "f3713371-a471-457a-891c-26517f914557": {
       "attrs": {
        "height": 0.8,
        "width": 0.8,
        "x": 0.1,
        "y": 0.1
       },
       "content": {
        "cell": "68bc15e1-1df3-4913-8792-479e7b2955e6",
        "part": "whole"
       },
       "id": "f3713371-a471-457a-891c-26517f914557"
      }
     },
     "theme": "5a2a5ec5-2de8-45b6-86cc-f0e35c5b576b"
    }
   },
   "themes": {
    "default": "5a2a5ec5-2de8-45b6-86cc-f0e35c5b576b",
    "theme": {
     "5447362a-7776-468d-b16e-53a9d1213e29": {
      "id": "5447362a-7776-468d-b16e-53a9d1213e29",
      "palette": {
       "19cc588f-0593-49c9-9f4b-e4d7cc113b1c": {
        "id": "19cc588f-0593-49c9-9f4b-e4d7cc113b1c",
        "rgb": [
         252,
         252,
         252
        ]
       },
       "31af15d2-7e15-44c5-ab5e-e04b16a89eff": {
        "id": "31af15d2-7e15-44c5-ab5e-e04b16a89eff",
        "rgb": [
         68,
         68,
         68
        ]
       },
       "50f92c45-a630-455b-aec3-788680ec7410": {
        "id": "50f92c45-a630-455b-aec3-788680ec7410",
        "rgb": [
         155,
         177,
         192
        ]
       },
       "c5cc3653-2ee1-402a-aba2-7caae1da4f6c": {
        "id": "c5cc3653-2ee1-402a-aba2-7caae1da4f6c",
        "rgb": [
         43,
         126,
         184
        ]
       },
       "efa7f048-9acb-414c-8b04-a26811511a21": {
        "id": "efa7f048-9acb-414c-8b04-a26811511a21",
        "rgb": [
         25.118061674008803,
         73.60176211453744,
         107.4819383259912
        ]
       }
      },
      "rules": {
       "blockquote": {
        "color": "50f92c45-a630-455b-aec3-788680ec7410"
       },
       "code": {
        "font-family": "Anonymous Pro"
       },
       "h1": {
        "color": "c5cc3653-2ee1-402a-aba2-7caae1da4f6c",
        "font-family": "Lato",
        "font-size": 8
       },
       "h2": {
        "color": "c5cc3653-2ee1-402a-aba2-7caae1da4f6c",
        "font-family": "Lato",
        "font-size": 6
       },
       "h3": {
        "color": "50f92c45-a630-455b-aec3-788680ec7410",
        "font-family": "Lato",
        "font-size": 5.5
       },
       "h4": {
        "color": "c5cc3653-2ee1-402a-aba2-7caae1da4f6c",
        "font-family": "Lato",
        "font-size": 5
       },
       "h5": {
        "font-family": "Lato"
       },
       "h6": {
        "font-family": "Lato"
       },
       "h7": {
        "font-family": "Lato"
       },
       "pre": {
        "font-family": "Anonymous Pro",
        "font-size": 4
       }
      },
      "text-base": {
       "font-family": "Merriweather",
       "font-size": 4
      }
     }
    }
   }
  },
  "toc": {
   "colors": {
    "hover_highlight": "#DAA520",
    "navigate_num": "#000000",
    "navigate_text": "#333333",
    "running_highlight": "#FF0000",
    "selected_highlight": "#FFD700",
    "sidebar_border": "#EEEEEE",
    "wrapper_background": "#FFFFFF"
   },
   "moveMenuLeft": true,
   "nav_menu": {
    "height": "336px",
    "width": "252px"
   },
   "navigate_menu": true,
   "number_sections": true,
   "sideBar": true,
   "threshold": 4,
   "toc_cell": true,
   "toc_position": {
    "height": "76px",
    "left": "0px",
    "right": "1182px",
    "top": "106px",
    "width": "234px"
   },
   "toc_section_display": "block",
   "toc_window_display": true,
   "widenNotebook": false
  },
  "varInspector": {
   "cols": {
    "lenName": 16,
    "lenType": 16,
    "lenVar": 40
   },
   "kernels_config": {
    "python": {
     "delete_cmd_postfix": "",
     "delete_cmd_prefix": "del ",
     "library": "var_list.py",
     "varRefreshCmd": "print(var_dic_list())"
    },
    "r": {
     "delete_cmd_postfix": ") ",
     "delete_cmd_prefix": "rm(",
     "library": "var_list.r",
     "varRefreshCmd": "cat(var_dic_list()) "
    }
   },
   "types_to_exclude": [
    "module",
    "function",
    "builtin_function_or_method",
    "instance",
    "_Feature"
   ],
   "window_display": false
  }
 },
 "nbformat": 4,
 "nbformat_minor": 2
}
